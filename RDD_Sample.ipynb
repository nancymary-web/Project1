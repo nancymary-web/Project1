{
  "nbformat": 4,
  "nbformat_minor": 0,
  "metadata": {
    "colab": {
      "provenance": []
    },
    "kernelspec": {
      "name": "python3",
      "display_name": "Python 3"
    },
    "language_info": {
      "name": "python"
    }
  },
  "cells": [
    {
      "cell_type": "code",
      "execution_count": 14,
      "metadata": {
        "id": "nncaiGG0aHmM"
      },
      "outputs": [],
      "source": [
        "# install pyspark\n",
        "!pip install pyspark --quiet"
      ]
    },
    {
      "cell_type": "code",
      "source": [
        "#jdk\n",
        "import os\n",
        "os.environ[\"JAVA_HOME\"] = '/lib/jvm/java-11-openjdk-amd64'"
      ],
      "metadata": {
        "id": "Xissg7BkakUj"
      },
      "execution_count": 15,
      "outputs": []
    },
    {
      "cell_type": "code",
      "source": [
        "from pyspark import SparkContext, SparkConf\n",
        "conf = SparkConf().set('spark.ui.port','4050').setAppName('films').setMaster('local[2]')\n",
        "sc = SparkContext.getOrCreate(conf=conf)"
      ],
      "metadata": {
        "id": "D-ZCiMQ7azkW"
      },
      "execution_count": 16,
      "outputs": []
    },
    {
      "cell_type": "code",
      "source": [
        "movie_list = ['RRR','Pushpa','Linga','Brahmayugam','love AajKal']\n",
        "type(movie_list)"
      ],
      "metadata": {
        "colab": {
          "base_uri": "https://localhost:8080/"
        },
        "id": "mYdXCmPscQp0",
        "outputId": "c75d5af7-d491-4c42-b268-ce09d39c7541"
      },
      "execution_count": 17,
      "outputs": [
        {
          "output_type": "execute_result",
          "data": {
            "text/plain": [
              "list"
            ]
          },
          "metadata": {},
          "execution_count": 17
        }
      ]
    },
    {
      "cell_type": "code",
      "source": [
        "movie_rdd = sc.parallelize(movie_list)\n",
        "type(movie_rdd)"
      ],
      "metadata": {
        "colab": {
          "base_uri": "https://localhost:8080/",
          "height": 172
        },
        "id": "xueDxmgIeQ9v",
        "outputId": "121ce75d-f259-4d9c-c99f-d1b30363d819"
      },
      "execution_count": 18,
      "outputs": [
        {
          "output_type": "execute_result",
          "data": {
            "text/plain": [
              "pyspark.rdd.RDD"
            ],
            "text/html": [
              "<div style=\"max-width:800px; border: 1px solid var(--colab-border-color);\"><style>\n",
              "      pre.function-repr-contents {\n",
              "        overflow-x: auto;\n",
              "        padding: 8px 12px;\n",
              "        max-height: 500px;\n",
              "      }\n",
              "\n",
              "      pre.function-repr-contents.function-repr-contents-collapsed {\n",
              "        cursor: pointer;\n",
              "        max-height: 100px;\n",
              "      }\n",
              "    </style>\n",
              "    <pre style=\"white-space: initial; background:\n",
              "         var(--colab-secondary-surface-color); padding: 8px 12px;\n",
              "         border-bottom: 1px solid var(--colab-border-color);\"><b>pyspark.rdd.RDD</b><br/>def __init__(jrdd: &#x27;JavaObject&#x27;, ctx: &#x27;SparkContext&#x27;, jrdd_deserializer: Serializer=AutoBatchedSerializer(CPickleSerializer()))</pre><pre class=\"function-repr-contents function-repr-contents-collapsed\" style=\"\"><a class=\"filepath\" style=\"display:none\" href=\"#\">/usr/local/lib/python3.11/dist-packages/pyspark/rdd.py</a>A Resilient Distributed Dataset (RDD), the basic abstraction in Spark.\n",
              "Represents an immutable, partitioned collection of elements that can be\n",
              "operated on in parallel.</pre>\n",
              "      <script>\n",
              "      if (google.colab.kernel.accessAllowed && google.colab.files && google.colab.files.view) {\n",
              "        for (const element of document.querySelectorAll('.filepath')) {\n",
              "          element.style.display = 'block'\n",
              "          element.onclick = (event) => {\n",
              "            event.preventDefault();\n",
              "            event.stopPropagation();\n",
              "            google.colab.files.view(element.textContent, 336);\n",
              "          };\n",
              "        }\n",
              "      }\n",
              "      for (const element of document.querySelectorAll('.function-repr-contents')) {\n",
              "        element.onclick = (event) => {\n",
              "          event.preventDefault();\n",
              "          event.stopPropagation();\n",
              "          element.classList.toggle('function-repr-contents-collapsed');\n",
              "        };\n",
              "      }\n",
              "      </script>\n",
              "      </div>"
            ]
          },
          "metadata": {},
          "execution_count": 18
        }
      ]
    },
    {
      "cell_type": "code",
      "source": [
        "movie_rdd"
      ],
      "metadata": {
        "colab": {
          "base_uri": "https://localhost:8080/"
        },
        "id": "i73YoyiAeZTg",
        "outputId": "e77a0680-c351-437a-c3c3-33b89d675736"
      },
      "execution_count": 19,
      "outputs": [
        {
          "output_type": "execute_result",
          "data": {
            "text/plain": [
              "ParallelCollectionRDD[8] at readRDDFromFile at PythonRDD.scala:289"
            ]
          },
          "metadata": {},
          "execution_count": 19
        }
      ]
    },
    {
      "cell_type": "code",
      "source": [
        "movie_rdd.collect()"
      ],
      "metadata": {
        "colab": {
          "base_uri": "https://localhost:8080/"
        },
        "id": "RChX8N_Tef27",
        "outputId": "f2f06f63-f60c-4239-8fcd-de5242ead84a"
      },
      "execution_count": 20,
      "outputs": [
        {
          "output_type": "execute_result",
          "data": {
            "text/plain": [
              "['RRR', 'Pushpa', 'Linga', 'Brahmayugam', 'love AajKal']"
            ]
          },
          "metadata": {},
          "execution_count": 20
        }
      ]
    },
    {
      "cell_type": "code",
      "source": [
        "type(movie_rdd.collect())"
      ],
      "metadata": {
        "colab": {
          "base_uri": "https://localhost:8080/"
        },
        "id": "34G3O_kEfneb",
        "outputId": "f83d4e8a-7bd1-4a68-92f1-813d1e1e6d6c"
      },
      "execution_count": 21,
      "outputs": [
        {
          "output_type": "execute_result",
          "data": {
            "text/plain": [
              "list"
            ]
          },
          "metadata": {},
          "execution_count": 21
        }
      ]
    },
    {
      "cell_type": "code",
      "source": [
        "movie_rdd.glom().collect()   #glom() transforms each partition of your RDD into a list.\n",
        "#It groups the elements within each partition into sublists, so you can inspect how data is distributed."
      ],
      "metadata": {
        "colab": {
          "base_uri": "https://localhost:8080/"
        },
        "id": "j7QK6K3DywQU",
        "outputId": "b026267e-2811-4f86-b8e7-c04e567c7fa4"
      },
      "execution_count": 22,
      "outputs": [
        {
          "output_type": "execute_result",
          "data": {
            "text/plain": [
              "[['RRR', 'Pushpa'], ['Linga', 'Brahmayugam', 'love AajKal']]"
            ]
          },
          "metadata": {},
          "execution_count": 22
        }
      ]
    },
    {
      "cell_type": "code",
      "source": [
        "conf = SparkConf().set('spark.ui.port','4051').setAppName('test1').setMaster('local[8]')\n",
        "sc = SparkContext.getOrCreate(conf=conf)\n",
        "#rdd1 = sc.parallelize([2,3,4,5,6,7,11])\n",
        "rdd1 = sc.parallelize([2,3,4,5,6,7,11],8)\n",
        "rdd1.glom().collect()"
      ],
      "metadata": {
        "colab": {
          "base_uri": "https://localhost:8080/"
        },
        "id": "PxXL785ozsIG",
        "outputId": "ff5f972d-2b71-4dbe-ec1b-2ad618cb44f6"
      },
      "execution_count": 44,
      "outputs": [
        {
          "output_type": "execute_result",
          "data": {
            "text/plain": [
              "[[], [2], [3], [4], [5], [6], [7], [11]]"
            ]
          },
          "metadata": {},
          "execution_count": 44
        }
      ]
    },
    {
      "cell_type": "code",
      "source": [
        "rdd1.stats()"
      ],
      "metadata": {
        "colab": {
          "base_uri": "https://localhost:8080/"
        },
        "id": "QhY_VC8b3znx",
        "outputId": "cc3a951c-fdc7-474f-ca19-4b32befac7e3"
      },
      "execution_count": 45,
      "outputs": [
        {
          "output_type": "execute_result",
          "data": {
            "text/plain": [
              "(count: 7, mean: 5.428571428571429, stdev: 2.770102775666474, max: 11.0, min: 2.0)"
            ]
          },
          "metadata": {},
          "execution_count": 45
        }
      ]
    },
    {
      "cell_type": "code",
      "source": [
        "rdd1.getNumPartitions()"
      ],
      "metadata": {
        "colab": {
          "base_uri": "https://localhost:8080/"
        },
        "id": "2IcoeuEQ399d",
        "outputId": "05421513-3c66-4fc2-eacf-5869d42c1589"
      },
      "execution_count": 46,
      "outputs": [
        {
          "output_type": "execute_result",
          "data": {
            "text/plain": [
              "8"
            ]
          },
          "metadata": {},
          "execution_count": 46
        }
      ]
    },
    {
      "cell_type": "code",
      "source": [
        "rdd1.coalesce(2).glom().collect()    #coalesce(n) is used to reduce the number of partitions in an RDD or DataFrame.\n",
        "#No shuffling involved\n",
        "#Considered a narrow transformation. Each input partition contributes to only one output partition. Quick, efficient"
      ],
      "metadata": {
        "colab": {
          "base_uri": "https://localhost:8080/"
        },
        "id": "J9R8AZH04aCo",
        "outputId": "4bb3b6b1-2ff5-4522-aec3-ac31bab05ba4"
      },
      "execution_count": 48,
      "outputs": [
        {
          "output_type": "execute_result",
          "data": {
            "text/plain": [
              "[[2, 3, 4], [5, 6, 7, 11]]"
            ]
          },
          "metadata": {},
          "execution_count": 48
        }
      ]
    },
    {
      "cell_type": "code",
      "source": [
        "#Repartition is used when partitions need to be increased or decreased. Here shuffling is involved.\n",
        "#Wide transformation. Each input partition contributes to multiple output partitions.\n",
        "rdd1.repartition(12).glom().collect()"
      ],
      "metadata": {
        "colab": {
          "base_uri": "https://localhost:8080/"
        },
        "id": "nTNH26RB4Zzm",
        "outputId": "88d9de01-4327-4e07-d593-e2f98764b8a5"
      },
      "execution_count": 49,
      "outputs": [
        {
          "output_type": "execute_result",
          "data": {
            "text/plain": [
              "[[4], [], [5, 6], [7], [2], [3, 11], [], [], [], [], [], []]"
            ]
          },
          "metadata": {},
          "execution_count": 49
        }
      ]
    },
    {
      "cell_type": "code",
      "source": [
        "movie_rdd.take(2)"
      ],
      "metadata": {
        "colab": {
          "base_uri": "https://localhost:8080/"
        },
        "id": "9GJ2khI1eiNo",
        "outputId": "164a1850-e30b-4323-a0d7-216b6a180d4b"
      },
      "execution_count": 24,
      "outputs": [
        {
          "output_type": "execute_result",
          "data": {
            "text/plain": [
              "['RRR', 'Pushpa']"
            ]
          },
          "metadata": {},
          "execution_count": 24
        }
      ]
    },
    {
      "cell_type": "code",
      "source": [
        "movie_list[0].title()"
      ],
      "metadata": {
        "colab": {
          "base_uri": "https://localhost:8080/",
          "height": 36
        },
        "id": "dj5gWxP4ew10",
        "outputId": "60e1e2a6-bc3f-48a5-bcdb-93195c99c123"
      },
      "execution_count": 25,
      "outputs": [
        {
          "output_type": "execute_result",
          "data": {
            "text/plain": [
              "'Rrr'"
            ],
            "application/vnd.google.colaboratory.intrinsic+json": {
              "type": "string"
            }
          },
          "metadata": {},
          "execution_count": 25
        }
      ]
    },
    {
      "cell_type": "code",
      "source": [
        "movie_rdd.collect()[0].title()"
      ],
      "metadata": {
        "colab": {
          "base_uri": "https://localhost:8080/",
          "height": 36
        },
        "id": "AZx3Cz3Le2WN",
        "outputId": "b98a1fcd-c1ca-48ff-9fe3-2ba3cab9ce59"
      },
      "execution_count": 26,
      "outputs": [
        {
          "output_type": "execute_result",
          "data": {
            "text/plain": [
              "'Rrr'"
            ],
            "application/vnd.google.colaboratory.intrinsic+json": {
              "type": "string"
            }
          },
          "metadata": {},
          "execution_count": 26
        }
      ]
    },
    {
      "cell_type": "code",
      "source": [
        "movie_rdd.collect()[-3:]"
      ],
      "metadata": {
        "colab": {
          "base_uri": "https://localhost:8080/"
        },
        "id": "F5f-LnXye9GS",
        "outputId": "3009458e-40b3-417c-f40f-97df86872d7f"
      },
      "execution_count": 27,
      "outputs": [
        {
          "output_type": "execute_result",
          "data": {
            "text/plain": [
              "['Linga', 'Brahmayugam', 'love AajKal']"
            ]
          },
          "metadata": {},
          "execution_count": 27
        }
      ]
    },
    {
      "cell_type": "code",
      "source": [
        "transform = lambda i:i.title()\n",
        "movie_title_rdd = movie_rdd.map(transform)\n",
        "movie_title_rdd.collect()"
      ],
      "metadata": {
        "colab": {
          "base_uri": "https://localhost:8080/"
        },
        "id": "-0I0R37FfgVU",
        "outputId": "d90661ed-b7b4-4aaa-a492-d2909d33d5ff"
      },
      "execution_count": 28,
      "outputs": [
        {
          "output_type": "execute_result",
          "data": {
            "text/plain": [
              "['Rrr', 'Pushpa', 'Linga', 'Brahmayugam', 'Love Aajkal']"
            ]
          },
          "metadata": {},
          "execution_count": 28
        }
      ]
    },
    {
      "cell_type": "code",
      "source": [
        "transform1 = lambda i: i[0]=='l'\n",
        "movie_rdd.filter(transform1).collect()"
      ],
      "metadata": {
        "colab": {
          "base_uri": "https://localhost:8080/"
        },
        "id": "bSFrFdRvf-TW",
        "outputId": "e39a243d-860f-4a4d-f6b3-ba9b5d89084f"
      },
      "execution_count": 29,
      "outputs": [
        {
          "output_type": "execute_result",
          "data": {
            "text/plain": [
              "['love AajKal']"
            ]
          },
          "metadata": {},
          "execution_count": 29
        }
      ]
    },
    {
      "cell_type": "code",
      "source": [
        "# Actions\n",
        "# Count the number of elements in the RDD\n",
        "num_movies = movie_rdd.count()\n",
        "print(f\"Number of movies: {num_movies}\")\n",
        "#print('Number of movies:', num_movies)\n",
        "\n",
        "# Find the first element in the RDD\n",
        "first_movie = movie_rdd.first()\n",
        "print(f\"First movie: {first_movie}\")\n",
        "\n",
        "# Reduce the RDD to a single value (e.g., concatenate all movie titles)\n",
        "concatenated_titles = movie_rdd.reduce(lambda x, y: x + \", \" + y)\n",
        "print(f\"Concatenated movie titles: {concatenated_titles}\")\n",
        "\n",
        "\n",
        "# Transformations\n",
        "# Map each movie title to its length\n",
        "movie_lengths = movie_rdd.map(lambda x: len(x))\n",
        "print(\"Movie lengths:\", movie_lengths.collect())\n",
        "\n",
        "\n",
        "# Filter movies with titles longer than 5 characters\n",
        "long_movie_titles = movie_rdd.filter(lambda x: len(x) > 5)\n",
        "print(\"Long movie titles:\", long_movie_titles.collect())\n",
        "\n",
        "# FlatMap: Explode a list into individual elements\n",
        "movie_chars_rdd = movie_rdd.flatMap(lambda x : list(x))\n",
        "print(\"Characters:\",movie_chars_rdd.collect())\n",
        "\n",
        "# Distinct elements\n",
        "print(\"Distinct movie characters:\",movie_chars_rdd.distinct().collect())\n",
        "\n",
        "# GroupByKey: Group the elements based on a key\n",
        "# We need key-value pairs for this transformation.\n",
        "# Let's create a new RDD\n",
        "movie_with_length = movie_rdd.map(lambda x: (x, len(x)))\n",
        "grouped_movies = movie_with_length.groupByKey().mapValues(list).collect()\n",
        "print(\"Movies grouped by length:\", grouped_movies)\n",
        "\n",
        "# SortByKey\n",
        "sorted_movies = movie_with_length.sortByKey().collect()\n",
        "print(\"Movies sorted by Title:\", sorted_movies)"
      ],
      "metadata": {
        "id": "uBvN0ieMgT1g",
        "colab": {
          "base_uri": "https://localhost:8080/"
        },
        "outputId": "bb699a59-f66f-461b-868d-56265fd6f6ad"
      },
      "execution_count": 30,
      "outputs": [
        {
          "output_type": "stream",
          "name": "stdout",
          "text": [
            "Number of movies: 5\n",
            "First movie: RRR\n",
            "Concatenated movie titles: RRR, Pushpa, Linga, Brahmayugam, love AajKal\n",
            "Movie lengths: [3, 6, 5, 11, 11]\n",
            "Long movie titles: ['Pushpa', 'Brahmayugam', 'love AajKal']\n",
            "Characters: ['R', 'R', 'R', 'P', 'u', 's', 'h', 'p', 'a', 'L', 'i', 'n', 'g', 'a', 'B', 'r', 'a', 'h', 'm', 'a', 'y', 'u', 'g', 'a', 'm', 'l', 'o', 'v', 'e', ' ', 'A', 'a', 'j', 'K', 'a', 'l']\n",
            "Distinct movie characters: ['R', 'p', 'L', 'g', 'l', 'o', ' ', 'A', 'j', 'K', 'P', 'u', 's', 'h', 'a', 'i', 'n', 'B', 'r', 'm', 'y', 'v', 'e']\n",
            "Movies grouped by length: [('Pushpa', [6]), ('Linga', [5]), ('RRR', [3]), ('Brahmayugam', [11]), ('love AajKal', [11])]\n",
            "Movies sorted by Title: [('Brahmayugam', 11), ('Linga', 5), ('Pushpa', 6), ('RRR', 3), ('love AajKal', 11)]\n"
          ]
        }
      ]
    },
    {
      "cell_type": "code",
      "source": [
        "rdd1 = sc.parallelize([2,3,4,5,6,7,11])"
      ],
      "metadata": {
        "id": "GxK-C1B5W4Xr"
      },
      "execution_count": 31,
      "outputs": []
    },
    {
      "cell_type": "code",
      "source": [
        "rdd2 = rdd1.map(lambda x: x * 2)\n",
        "rdd2.collect()"
      ],
      "metadata": {
        "colab": {
          "base_uri": "https://localhost:8080/"
        },
        "id": "FRyAhdQaY2sf",
        "outputId": "69ae0274-2a03-4062-8e2c-34ffd37a743f"
      },
      "execution_count": 32,
      "outputs": [
        {
          "output_type": "execute_result",
          "data": {
            "text/plain": [
              "[4, 6, 8, 10, 12, 14, 22]"
            ]
          },
          "metadata": {},
          "execution_count": 32
        }
      ]
    },
    {
      "cell_type": "code",
      "source": [
        "rdd2 = rdd1.filter(lambda x: x > 10)\n",
        "rdd2.collect()"
      ],
      "metadata": {
        "colab": {
          "base_uri": "https://localhost:8080/"
        },
        "id": "OBR_uCzCZFG_",
        "outputId": "f8d5fade-6fc0-4295-c6a6-20cd1a6634b4"
      },
      "execution_count": 33,
      "outputs": [
        {
          "output_type": "execute_result",
          "data": {
            "text/plain": [
              "[11]"
            ]
          },
          "metadata": {},
          "execution_count": 33
        }
      ]
    },
    {
      "cell_type": "code",
      "source": [
        "rdd3 = sc.parallelize([[2,3,4],[5,6,7],[11,12,13]])\n",
        "rdd2 = rdd3.map(lambda iter: [x * 2 for x in iter])\n",
        "rdd2.collect()"
      ],
      "metadata": {
        "colab": {
          "base_uri": "https://localhost:8080/"
        },
        "id": "11JG0-R7EWbZ",
        "outputId": "fd2b8a20-7c2b-432b-f6ab-836d85ed3971"
      },
      "execution_count": 34,
      "outputs": [
        {
          "output_type": "execute_result",
          "data": {
            "text/plain": [
              "[[4, 6, 8], [10, 12, 14], [22, 24, 26]]"
            ]
          },
          "metadata": {},
          "execution_count": 34
        }
      ]
    },
    {
      "cell_type": "code",
      "source": [
        "rdd3 = sc.parallelize([[2,3,4],[5,6,7],[11,12,13]])\n",
        "rdd2 = rdd3.mapPartitions(lambda iter: [x * 2 for x in iter])\n",
        "rdd2.collect()\n"
      ],
      "metadata": {
        "colab": {
          "base_uri": "https://localhost:8080/"
        },
        "id": "qO57G-nIZ7vu",
        "outputId": "10c5610d-e3e3-4df4-eafa-cb50c8d3c715"
      },
      "execution_count": 35,
      "outputs": [
        {
          "output_type": "execute_result",
          "data": {
            "text/plain": [
              "[[2, 3, 4, 2, 3, 4], [5, 6, 7, 5, 6, 7], [11, 12, 13, 11, 12, 13]]"
            ]
          },
          "metadata": {},
          "execution_count": 35
        }
      ]
    },
    {
      "cell_type": "code",
      "source": [
        "rdd2 = rdd1.union(rdd3)\n",
        "rdd2.collect()"
      ],
      "metadata": {
        "colab": {
          "base_uri": "https://localhost:8080/"
        },
        "id": "DLa5iKJJbEmx",
        "outputId": "f03cac5a-4680-4422-e642-df4bba06af40"
      },
      "execution_count": 36,
      "outputs": [
        {
          "output_type": "execute_result",
          "data": {
            "text/plain": [
              "[2, 3, 4, 5, 6, 7, 11, [2, 3, 4], [5, 6, 7], [11, 12, 13]]"
            ]
          },
          "metadata": {},
          "execution_count": 36
        }
      ]
    },
    {
      "cell_type": "code",
      "source": [
        "rdd3 = sc.parallelize([7,11,12,13])\n",
        "rdd2 = rdd1.intersection(rdd3)\n",
        "rdd2.collect()"
      ],
      "metadata": {
        "colab": {
          "base_uri": "https://localhost:8080/"
        },
        "id": "P_BZYqQGah2_",
        "outputId": "823c6487-8a22-4e03-888e-c5c7d321c5ab"
      },
      "execution_count": 37,
      "outputs": [
        {
          "output_type": "execute_result",
          "data": {
            "text/plain": [
              "[7, 11]"
            ]
          },
          "metadata": {},
          "execution_count": 37
        }
      ]
    },
    {
      "cell_type": "code",
      "source": [
        "rdd3 = sc.parallelize([7,7,11,12,13])\n",
        "rdd2 = rdd3.distinct()\n",
        "rdd2.collect()"
      ],
      "metadata": {
        "colab": {
          "base_uri": "https://localhost:8080/"
        },
        "id": "l3pjuEa5bfzW",
        "outputId": "0b8c0112-2f5d-4afc-f2bb-cbabe8f53170"
      },
      "execution_count": 38,
      "outputs": [
        {
          "output_type": "execute_result",
          "data": {
            "text/plain": [
              "[12, 7, 11, 13]"
            ]
          },
          "metadata": {},
          "execution_count": 38
        }
      ]
    },
    {
      "cell_type": "code",
      "source": [
        "rdd2 = rdd1.groupBy(lambda x: x % 2)\n",
        "rdd2.collect()"
      ],
      "metadata": {
        "colab": {
          "base_uri": "https://localhost:8080/"
        },
        "id": "kt8efL4nbzYy",
        "outputId": "1604b0de-373c-452c-ad88-16d14f81ac8e"
      },
      "execution_count": 39,
      "outputs": [
        {
          "output_type": "execute_result",
          "data": {
            "text/plain": [
              "[(0, <pyspark.resultiterable.ResultIterable at 0x7c45a03fcb90>),\n",
              " (1, <pyspark.resultiterable.ResultIterable at 0x7c45a15d4510>)]"
            ]
          },
          "metadata": {},
          "execution_count": 39
        }
      ]
    },
    {
      "cell_type": "code",
      "source": [
        "rdd1.groupBy(lambda x: x % 2).mapValues(list).collect()"
      ],
      "metadata": {
        "colab": {
          "base_uri": "https://localhost:8080/"
        },
        "id": "Od01NZTCHQUn",
        "outputId": "ff1ae1a7-c328-4269-cac6-f3db145688f5"
      },
      "execution_count": 40,
      "outputs": [
        {
          "output_type": "execute_result",
          "data": {
            "text/plain": [
              "[(0, [2, 4, 6]), (1, [3, 5, 7, 11])]"
            ]
          },
          "metadata": {},
          "execution_count": 40
        }
      ]
    },
    {
      "cell_type": "code",
      "source": [
        "rdd1.collect()"
      ],
      "metadata": {
        "colab": {
          "base_uri": "https://localhost:8080/"
        },
        "id": "7hMD6UuJcQES",
        "outputId": "ec153c26-841f-4ef8-d795-6d519908a19f"
      },
      "execution_count": 41,
      "outputs": [
        {
          "output_type": "execute_result",
          "data": {
            "text/plain": [
              "[2, 3, 4, 5, 6, 7, 11]"
            ]
          },
          "metadata": {},
          "execution_count": 41
        }
      ]
    },
    {
      "cell_type": "code",
      "source": [
        "result = rdd1.count()\n",
        "result"
      ],
      "metadata": {
        "colab": {
          "base_uri": "https://localhost:8080/"
        },
        "id": "X2AkHoyDcI5y",
        "outputId": "be6aa852-8a9a-41bd-f783-520615a9843e"
      },
      "execution_count": 42,
      "outputs": [
        {
          "output_type": "execute_result",
          "data": {
            "text/plain": [
              "7"
            ]
          },
          "metadata": {},
          "execution_count": 42
        }
      ]
    },
    {
      "cell_type": "code",
      "source": [
        "result = rdd1.top(3)\n",
        "result"
      ],
      "metadata": {
        "colab": {
          "base_uri": "https://localhost:8080/"
        },
        "id": "0bdWwIRocn75",
        "outputId": "d68e6263-6381-4969-e365-027ff787f841"
      },
      "execution_count": 43,
      "outputs": [
        {
          "output_type": "execute_result",
          "data": {
            "text/plain": [
              "[11, 7, 6]"
            ]
          },
          "metadata": {},
          "execution_count": 43
        }
      ]
    }
  ]
}